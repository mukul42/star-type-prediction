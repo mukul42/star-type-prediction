{
 "cells": [
  {
   "cell_type": "code",
   "execution_count": null,
   "id": "67a2fb86",
   "metadata": {},
   "outputs": [],
   "source": [
    "import pandas as pd\n",
    "import matplotlib.pyplot as plt\n",
    "from sklearn.model_selection import train_test_split\n",
    "import numpy as np\n",
    "import xgboost as xgb\n",
    "from sklearn.metrics import accuracy_score"
   ]
  },
  {
   "cell_type": "code",
   "execution_count": null,
   "id": "579d4f1f",
   "metadata": {},
   "outputs": [],
   "source": [
    "DATASET_FILE_PATH = './dataset.csv'\n",
    "star_df = pd.read_csv(DATASET_FILE_PATH)\n",
    "star_df.head()"
   ]
  },
  {
   "cell_type": "code",
   "execution_count": null,
   "id": "812b8940",
   "metadata": {},
   "outputs": [],
   "source": [
    "star_df.tail()"
   ]
  },
  {
   "cell_type": "code",
   "execution_count": null,
   "id": "0d1d2388",
   "metadata": {},
   "outputs": [],
   "source": [
    "star_df.info()"
   ]
  },
  {
   "cell_type": "code",
   "execution_count": null,
   "id": "c4acc149",
   "metadata": {},
   "outputs": [],
   "source": [
    "star_df.count()"
   ]
  },
  {
   "cell_type": "code",
   "execution_count": null,
   "id": "5a8e789e",
   "metadata": {},
   "outputs": [],
   "source": [
    "star_df.drop_duplicates(inplace=True)\n",
    "star_df.count()"
   ]
  },
  {
   "cell_type": "code",
   "execution_count": null,
   "id": "b7c4da8f",
   "metadata": {},
   "outputs": [],
   "source": [
    "star_df.describe()"
   ]
  },
  {
   "cell_type": "code",
   "execution_count": null,
   "id": "aa964875",
   "metadata": {},
   "outputs": [],
   "source": [
    "star_df['Star color'] = star_df['Star color'].astype('category')\n",
    "star_df['Spectral Class'] = star_df['Spectral Class'].astype('category')"
   ]
  },
  {
   "cell_type": "code",
   "execution_count": null,
   "id": "b7685731",
   "metadata": {},
   "outputs": [],
   "source": [
    "y = star_df['Star type']\n",
    "star_df.drop('Star type', axis=1, inplace=True)\n",
    "X_train, X_test, y_train, y_test = train_test_split(star_df,y,test_size=0.20,random_state=101,shuffle=True)"
   ]
  },
  {
   "cell_type": "code",
   "execution_count": null,
   "id": "784d957c",
   "metadata": {},
   "outputs": [],
   "source": [
    "X_train.head()"
   ]
  },
  {
   "cell_type": "code",
   "execution_count": null,
   "id": "75bb0087",
   "metadata": {},
   "outputs": [],
   "source": [
    "y_train.head()"
   ]
  },
  {
   "cell_type": "code",
   "execution_count": null,
   "id": "05da4b57",
   "metadata": {},
   "outputs": [],
   "source": [
    "xgb_classifier = xgb.XGBClassifier(tree_method=\"hist\", enable_categorical=True, max_cat_to_onehot=1)\n",
    "xgb_classifier.fit(X_train, y_train)"
   ]
  },
  {
   "cell_type": "code",
   "execution_count": null,
   "id": "4604e05a",
   "metadata": {},
   "outputs": [],
   "source": [
    "res = xgb_classifier.predict(X_test)"
   ]
  },
  {
   "cell_type": "code",
   "execution_count": null,
   "id": "d5eca90e",
   "metadata": {},
   "outputs": [],
   "source": [
    "accuracy_score(y_test, res)"
   ]
  }
 ],
 "metadata": {
  "kernelspec": {
   "display_name": "Python 3 (ipykernel)",
   "language": "python",
   "name": "python3"
  },
  "language_info": {
   "codemirror_mode": {
    "name": "ipython",
    "version": 3
   },
   "file_extension": ".py",
   "mimetype": "text/x-python",
   "name": "python",
   "nbconvert_exporter": "python",
   "pygments_lexer": "ipython3",
   "version": "3.9.13"
  }
 },
 "nbformat": 4,
 "nbformat_minor": 5
}
